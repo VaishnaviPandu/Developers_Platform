{
  "nbformat": 4,
  "nbformat_minor": 0,
  "metadata": {
    "colab": {
      "name": "MINNI PROJECT.ipynb",
      "provenance": [],
      "include_colab_link": true
    },
    "kernelspec": {
      "display_name": "Python 3",
      "name": "python3"
    },
    "language_info": {
      "name": "python"
    }
  },
  "cells": [
    {
      "cell_type": "markdown",
      "metadata": {
        "id": "view-in-github",
        "colab_type": "text"
      },
      "source": [
        "<a href=\"https://colab.research.google.com/github/VaishnaviPandu/Developers_Platform/blob/Mini_Project/MINNI_PROJECT.ipynb\" target=\"_parent\"><img src=\"https://colab.research.google.com/assets/colab-badge.svg\" alt=\"Open In Colab\"/></a>"
      ]
    },
    {
      "cell_type": "code",
      "metadata": {
        "colab": {
          "background_save": true,
          "base_uri": "https://localhost:8080/",
          "height": 663
        },
        "id": "cYtYtcdxfF6R",
        "outputId": "4744827b-e7a5-4848-fed4-6595b3698fdc"
      },
      "source": [
        "print('hello paitent! we welcome you to Triva hospital''\\n''we are glad to have you')\n",
        "name = input('enter your name:')\n",
        "ph_no= input('enter your phone.no:')\n",
        "address=input('enter your address:')\n",
        "print(name)\n",
        "print(ph_no)\n",
        "print(address)\n",
        "symptoms=print('please select the following symptoms your facing:')\n",
        "print(\"a.cough & cold,b.joint pains,c.stomach pains,d."
      ],
      "execution_count": null,
      "outputs": [
        {
          "name": "stdout",
          "output_type": "stream",
          "text": [
            "hello paitent! we welcome you to Triva hospital\n",
            "we are glad to have you\n",
            "tulasi\n",
            "6300605754\n",
            "erragada\n",
            "please select the following symptoms your facing:\n",
            "Refer to orthopedic\n",
            "1.Dr.Varsha\n",
            "  Experience:5 years\n",
            "  Consultation fee:500\n",
            "2.Dr.Sindhu\n",
            "  Experience:3 years\n",
            "  Consultation fee:300\n",
            "3.Dr.Bhargavi\n",
            "  Experience:7 years\n",
            "  Consultation fee:700\n",
            "4.Dr.Santhoshi\n",
            "  Experience:8 years\n",
            "  Consultation fee:800\n",
            "Available slots for Dr.Sindhu\n",
            "1.Dr.meghana\n",
            "  Experience:5 years\n",
            "  Consultation fee:500\n",
            "2.Dr.bhavitha\n",
            "  Experience:3 years\n",
            "  Consultation fee:300\n",
            "3.Dr.vaishno devi\n",
            "  Experience:7 years\n",
            "  Consultation fee:700\n",
            "4.Dr.shivathmika\n",
            "  Experience:8 years\n",
            "  Consultation fee:800\n"
          ]
        }
      ]
    }
  ]
}